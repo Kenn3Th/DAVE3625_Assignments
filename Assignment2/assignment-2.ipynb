{
 "cells": [
  {
   "cell_type": "code",
   "execution_count": 1,
   "metadata": {},
   "outputs": [],
   "source": [
    "import pandas as pd\n",
    "import datetime as dt\n",
    "import random\n",
    "import matplotlib.pyplot as plt\n",
    "from sklearn import linear_model"
   ]
  },
  {
   "cell_type": "code",
   "execution_count": 2,
   "metadata": {},
   "outputs": [
    {
     "data": {
      "text/html": [
       "<div>\n",
       "<style scoped>\n",
       "    .dataframe tbody tr th:only-of-type {\n",
       "        vertical-align: middle;\n",
       "    }\n",
       "\n",
       "    .dataframe tbody tr th {\n",
       "        vertical-align: top;\n",
       "    }\n",
       "\n",
       "    .dataframe thead th {\n",
       "        text-align: right;\n",
       "    }\n",
       "</style>\n",
       "<table border=\"1\" class=\"dataframe\">\n",
       "  <thead>\n",
       "    <tr style=\"text-align: right;\">\n",
       "      <th></th>\n",
       "      <th>Date</th>\n",
       "      <th>Open</th>\n",
       "      <th>High</th>\n",
       "      <th>Low</th>\n",
       "      <th>Close</th>\n",
       "      <th>Adj Close</th>\n",
       "      <th>Volume</th>\n",
       "    </tr>\n",
       "  </thead>\n",
       "  <tbody>\n",
       "    <tr>\n",
       "      <th>0</th>\n",
       "      <td>2003-12-18</td>\n",
       "      <td>19.482599</td>\n",
       "      <td>19.596901</td>\n",
       "      <td>19.025499</td>\n",
       "      <td>19.139799</td>\n",
       "      <td>19.139799</td>\n",
       "      <td>4978496.0</td>\n",
       "    </tr>\n",
       "    <tr>\n",
       "      <th>1</th>\n",
       "      <td>2003-12-19</td>\n",
       "      <td>19.368299</td>\n",
       "      <td>19.425501</td>\n",
       "      <td>18.282801</td>\n",
       "      <td>18.454201</td>\n",
       "      <td>18.454201</td>\n",
       "      <td>1410901.0</td>\n",
       "    </tr>\n",
       "    <tr>\n",
       "      <th>2</th>\n",
       "      <td>2003-12-22</td>\n",
       "      <td>18.739901</td>\n",
       "      <td>18.739901</td>\n",
       "      <td>17.997101</td>\n",
       "      <td>18.054300</td>\n",
       "      <td>18.054300</td>\n",
       "      <td>137047.0</td>\n",
       "    </tr>\n",
       "    <tr>\n",
       "      <th>3</th>\n",
       "      <td>2003-12-23</td>\n",
       "      <td>17.997101</td>\n",
       "      <td>17.997101</td>\n",
       "      <td>17.368700</td>\n",
       "      <td>17.425800</td>\n",
       "      <td>17.425800</td>\n",
       "      <td>229418.0</td>\n",
       "    </tr>\n",
       "    <tr>\n",
       "      <th>4</th>\n",
       "      <td>2003-12-24</td>\n",
       "      <td>NaN</td>\n",
       "      <td>NaN</td>\n",
       "      <td>NaN</td>\n",
       "      <td>NaN</td>\n",
       "      <td>NaN</td>\n",
       "      <td>NaN</td>\n",
       "    </tr>\n",
       "    <tr>\n",
       "      <th>5</th>\n",
       "      <td>2003-12-25</td>\n",
       "      <td>NaN</td>\n",
       "      <td>NaN</td>\n",
       "      <td>NaN</td>\n",
       "      <td>NaN</td>\n",
       "      <td>NaN</td>\n",
       "      <td>NaN</td>\n",
       "    </tr>\n",
       "    <tr>\n",
       "      <th>6</th>\n",
       "      <td>2003-12-26</td>\n",
       "      <td>NaN</td>\n",
       "      <td>NaN</td>\n",
       "      <td>NaN</td>\n",
       "      <td>NaN</td>\n",
       "      <td>NaN</td>\n",
       "      <td>NaN</td>\n",
       "    </tr>\n",
       "    <tr>\n",
       "      <th>7</th>\n",
       "      <td>2003-12-29</td>\n",
       "      <td>17.425800</td>\n",
       "      <td>17.425800</td>\n",
       "      <td>16.854500</td>\n",
       "      <td>17.254400</td>\n",
       "      <td>17.254400</td>\n",
       "      <td>196206.0</td>\n",
       "    </tr>\n",
       "    <tr>\n",
       "      <th>8</th>\n",
       "      <td>2003-12-30</td>\n",
       "      <td>17.425800</td>\n",
       "      <td>17.882900</td>\n",
       "      <td>17.425800</td>\n",
       "      <td>17.711500</td>\n",
       "      <td>17.711500</td>\n",
       "      <td>67298.0</td>\n",
       "    </tr>\n",
       "    <tr>\n",
       "      <th>9</th>\n",
       "      <td>2003-12-31</td>\n",
       "      <td>NaN</td>\n",
       "      <td>NaN</td>\n",
       "      <td>NaN</td>\n",
       "      <td>NaN</td>\n",
       "      <td>NaN</td>\n",
       "      <td>NaN</td>\n",
       "    </tr>\n",
       "  </tbody>\n",
       "</table>\n",
       "</div>"
      ],
      "text/plain": [
       "         Date       Open       High        Low      Close  Adj Close  \\\n",
       "0  2003-12-18  19.482599  19.596901  19.025499  19.139799  19.139799   \n",
       "1  2003-12-19  19.368299  19.425501  18.282801  18.454201  18.454201   \n",
       "2  2003-12-22  18.739901  18.739901  17.997101  18.054300  18.054300   \n",
       "3  2003-12-23  17.997101  17.997101  17.368700  17.425800  17.425800   \n",
       "4  2003-12-24        NaN        NaN        NaN        NaN        NaN   \n",
       "5  2003-12-25        NaN        NaN        NaN        NaN        NaN   \n",
       "6  2003-12-26        NaN        NaN        NaN        NaN        NaN   \n",
       "7  2003-12-29  17.425800  17.425800  16.854500  17.254400  17.254400   \n",
       "8  2003-12-30  17.425800  17.882900  17.425800  17.711500  17.711500   \n",
       "9  2003-12-31        NaN        NaN        NaN        NaN        NaN   \n",
       "\n",
       "      Volume  \n",
       "0  4978496.0  \n",
       "1  1410901.0  \n",
       "2   137047.0  \n",
       "3   229418.0  \n",
       "4        NaN  \n",
       "5        NaN  \n",
       "6        NaN  \n",
       "7   196206.0  \n",
       "8    67298.0  \n",
       "9        NaN  "
      ]
     },
     "execution_count": 2,
     "metadata": {},
     "output_type": "execute_result"
    }
   ],
   "source": [
    "nasData = pd.read_csv(\"NAS.csv\")\n",
    "nasData.head(10)"
   ]
  },
  {
   "cell_type": "markdown",
   "metadata": {},
   "source": [
    "# Feature engineering"
   ]
  },
  {
   "cell_type": "code",
   "execution_count": 3,
   "metadata": {},
   "outputs": [
    {
     "data": {
      "text/html": [
       "<div>\n",
       "<style scoped>\n",
       "    .dataframe tbody tr th:only-of-type {\n",
       "        vertical-align: middle;\n",
       "    }\n",
       "\n",
       "    .dataframe tbody tr th {\n",
       "        vertical-align: top;\n",
       "    }\n",
       "\n",
       "    .dataframe thead th {\n",
       "        text-align: right;\n",
       "    }\n",
       "</style>\n",
       "<table border=\"1\" class=\"dataframe\">\n",
       "  <thead>\n",
       "    <tr style=\"text-align: right;\">\n",
       "      <th></th>\n",
       "      <th>Date</th>\n",
       "      <th>Open</th>\n",
       "      <th>High</th>\n",
       "      <th>Low</th>\n",
       "      <th>Close</th>\n",
       "      <th>Adj Close</th>\n",
       "      <th>Volume</th>\n",
       "    </tr>\n",
       "  </thead>\n",
       "  <tbody>\n",
       "    <tr>\n",
       "      <th>0</th>\n",
       "      <td>2003-12-18</td>\n",
       "      <td>19.482599</td>\n",
       "      <td>19.596901</td>\n",
       "      <td>19.025499</td>\n",
       "      <td>19.139799</td>\n",
       "      <td>19.139799</td>\n",
       "      <td>4978496.0</td>\n",
       "    </tr>\n",
       "    <tr>\n",
       "      <th>1</th>\n",
       "      <td>2003-12-19</td>\n",
       "      <td>19.368299</td>\n",
       "      <td>19.425501</td>\n",
       "      <td>18.282801</td>\n",
       "      <td>18.454201</td>\n",
       "      <td>18.454201</td>\n",
       "      <td>1410901.0</td>\n",
       "    </tr>\n",
       "    <tr>\n",
       "      <th>2</th>\n",
       "      <td>2003-12-22</td>\n",
       "      <td>18.739901</td>\n",
       "      <td>18.739901</td>\n",
       "      <td>17.997101</td>\n",
       "      <td>18.054300</td>\n",
       "      <td>18.054300</td>\n",
       "      <td>137047.0</td>\n",
       "    </tr>\n",
       "    <tr>\n",
       "      <th>3</th>\n",
       "      <td>2003-12-23</td>\n",
       "      <td>17.997101</td>\n",
       "      <td>17.997101</td>\n",
       "      <td>17.368700</td>\n",
       "      <td>17.425800</td>\n",
       "      <td>17.425800</td>\n",
       "      <td>229418.0</td>\n",
       "    </tr>\n",
       "    <tr>\n",
       "      <th>7</th>\n",
       "      <td>2003-12-29</td>\n",
       "      <td>17.425800</td>\n",
       "      <td>17.425800</td>\n",
       "      <td>16.854500</td>\n",
       "      <td>17.254400</td>\n",
       "      <td>17.254400</td>\n",
       "      <td>196206.0</td>\n",
       "    </tr>\n",
       "    <tr>\n",
       "      <th>...</th>\n",
       "      <td>...</td>\n",
       "      <td>...</td>\n",
       "      <td>...</td>\n",
       "      <td>...</td>\n",
       "      <td>...</td>\n",
       "      <td>...</td>\n",
       "      <td>...</td>\n",
       "    </tr>\n",
       "    <tr>\n",
       "      <th>4248</th>\n",
       "      <td>2020-10-12</td>\n",
       "      <td>0.709000</td>\n",
       "      <td>0.710000</td>\n",
       "      <td>0.650000</td>\n",
       "      <td>0.676800</td>\n",
       "      <td>0.676800</td>\n",
       "      <td>48320475.0</td>\n",
       "    </tr>\n",
       "    <tr>\n",
       "      <th>4249</th>\n",
       "      <td>2020-10-13</td>\n",
       "      <td>0.676800</td>\n",
       "      <td>0.676800</td>\n",
       "      <td>0.600000</td>\n",
       "      <td>0.600600</td>\n",
       "      <td>0.600600</td>\n",
       "      <td>47786200.0</td>\n",
       "    </tr>\n",
       "    <tr>\n",
       "      <th>4250</th>\n",
       "      <td>2020-10-14</td>\n",
       "      <td>0.601000</td>\n",
       "      <td>0.640000</td>\n",
       "      <td>0.596200</td>\n",
       "      <td>0.626000</td>\n",
       "      <td>0.626000</td>\n",
       "      <td>37534949.0</td>\n",
       "    </tr>\n",
       "    <tr>\n",
       "      <th>4251</th>\n",
       "      <td>2020-10-15</td>\n",
       "      <td>0.626000</td>\n",
       "      <td>0.626000</td>\n",
       "      <td>0.585000</td>\n",
       "      <td>0.605000</td>\n",
       "      <td>0.605000</td>\n",
       "      <td>26737615.0</td>\n",
       "    </tr>\n",
       "    <tr>\n",
       "      <th>4252</th>\n",
       "      <td>2020-10-16</td>\n",
       "      <td>0.605000</td>\n",
       "      <td>0.620000</td>\n",
       "      <td>0.601000</td>\n",
       "      <td>0.610600</td>\n",
       "      <td>0.610600</td>\n",
       "      <td>15754218.0</td>\n",
       "    </tr>\n",
       "  </tbody>\n",
       "</table>\n",
       "<p>4218 rows × 7 columns</p>\n",
       "</div>"
      ],
      "text/plain": [
       "            Date       Open       High        Low      Close  Adj Close  \\\n",
       "0     2003-12-18  19.482599  19.596901  19.025499  19.139799  19.139799   \n",
       "1     2003-12-19  19.368299  19.425501  18.282801  18.454201  18.454201   \n",
       "2     2003-12-22  18.739901  18.739901  17.997101  18.054300  18.054300   \n",
       "3     2003-12-23  17.997101  17.997101  17.368700  17.425800  17.425800   \n",
       "7     2003-12-29  17.425800  17.425800  16.854500  17.254400  17.254400   \n",
       "...          ...        ...        ...        ...        ...        ...   \n",
       "4248  2020-10-12   0.709000   0.710000   0.650000   0.676800   0.676800   \n",
       "4249  2020-10-13   0.676800   0.676800   0.600000   0.600600   0.600600   \n",
       "4250  2020-10-14   0.601000   0.640000   0.596200   0.626000   0.626000   \n",
       "4251  2020-10-15   0.626000   0.626000   0.585000   0.605000   0.605000   \n",
       "4252  2020-10-16   0.605000   0.620000   0.601000   0.610600   0.610600   \n",
       "\n",
       "          Volume  \n",
       "0      4978496.0  \n",
       "1      1410901.0  \n",
       "2       137047.0  \n",
       "3       229418.0  \n",
       "7       196206.0  \n",
       "...          ...  \n",
       "4248  48320475.0  \n",
       "4249  47786200.0  \n",
       "4250  37534949.0  \n",
       "4251  26737615.0  \n",
       "4252  15754218.0  \n",
       "\n",
       "[4218 rows x 7 columns]"
      ]
     },
     "execution_count": 3,
     "metadata": {},
     "output_type": "execute_result"
    }
   ],
   "source": [
    "nasData = nasData.dropna(axis=\"rows\")\n",
    "nasData"
   ]
  },
  {
   "cell_type": "code",
   "execution_count": 4,
   "metadata": {},
   "outputs": [],
   "source": [
    "dato = nasData['Date']\n",
    "dato = pd.to_datetime(dato)\n",
    "dato = dato.map(dt.datetime.toordinal) #mapping the dates to integers\n",
    "inputData = dato.to_frame()"
   ]
  },
  {
   "cell_type": "code",
   "execution_count": 5,
   "metadata": {},
   "outputs": [],
   "source": [
    "#We are looking at the prise at adjusting closing prise\n",
    "closingPrice = nasData['Adj Close']"
   ]
  },
  {
   "cell_type": "markdown",
   "metadata": {},
   "source": [
    "# Training the model"
   ]
  },
  {
   "cell_type": "code",
   "execution_count": 6,
   "metadata": {},
   "outputs": [
    {
     "data": {
      "text/plain": [
       "LinearRegression()"
      ]
     },
     "execution_count": 6,
     "metadata": {},
     "output_type": "execute_result"
    }
   ],
   "source": [
    "model = linear_model.LinearRegression()\n",
    "model.fit(inputData,closingPrice)"
   ]
  },
  {
   "cell_type": "markdown",
   "metadata": {},
   "source": [
    "# Vizualizing the linear fit with the data points"
   ]
  },
  {
   "cell_type": "code",
   "execution_count": 8,
   "metadata": {},
   "outputs": [
    {
     "data": {
      "image/png": "[encoded data removed]",
      "text/plain": [
       "<Figure size 432x288 with 1 Axes>"
      ]
     },
     "metadata": {
      "needs_background": "light"
     },
     "output_type": "display_data"
    }
   ],
   "source": [
    "plt.title('Linear regression')\n",
    "plt.xlabel('Date')\n",
    "plt.ylabel('Price')\n",
    "plt.scatter(dato[::100], closingPrice[::100], color = 'green')\n",
    "plt.plot(inputData, model.predict(inputData))\n",
    "plt.show()"
   ]
  },
  {
   "cell_type": "code",
   "execution_count": 9,
   "metadata": {},
   "outputs": [],
   "source": [
    "#function to map date to integer\n",
    "def convertDate(day):\n",
    "    date = pd.to_datetime(day)\n",
    "    return dt.datetime.toordinal(date)\n",
    "#function for generating a random date\n",
    "def randomDate(start, stopp):\n",
    "    time_between_dates = end_date - start_date\n",
    "    days_between_dates = time_between_dates.days\n",
    "    random_number_of_days = random.randrange(days_between_dates)\n",
    "    random_date = start_date + dt.timedelta(days=random_number_of_days)\n",
    "    return random_date"
   ]
  },
  {
   "cell_type": "code",
   "execution_count": 10,
   "metadata": {},
   "outputs": [
    {
     "name": "stdout",
     "output_type": "stream",
     "text": [
      "Day one: 2021-05-21  Day two: 2021-08-12\n"
     ]
    }
   ],
   "source": [
    "#sending in random date\n",
    "start_date = dt.date(2021, 1, 1)\n",
    "end_date = dt.date(2021, 12, 30)\n",
    "\n",
    "dag1 = randomDate(start_date, end_date)\n",
    "dag2 = randomDate(start_date, end_date)\n",
    "print(f\"Day one: {dag1}  Day two: {dag2}\")"
   ]
  },
  {
   "cell_type": "code",
   "execution_count": 11,
   "metadata": {},
   "outputs": [
    {
     "name": "stdout",
     "output_type": "stream",
     "text": [
      "Predicted stock price at date (2021-05-21) is :130.21\n",
      "Predicted stock price at date (2021-08-12) is :131.49\n"
     ]
    }
   ],
   "source": [
    "print(f\"Predicted stock price at date ({dag1}) is :{model.predict([[convertDate(dag1)]])[0]:.2f}\")\n",
    "print(f\"Predicted stock price at date ({dag2}) is :{model.predict([[convertDate(dag2)]])[0]:.2f}\")"
   ]
  },
  {
   "cell_type": "code",
   "execution_count": null,
   "metadata": {},
   "outputs": [],
   "source": []
  }
 ],
 "metadata": {
  "kernelspec": {
   "display_name": "Python 3",
   "language": "python",
   "name": "python3"
  },
  "language_info": {
   "codemirror_mode": {
    "name": "ipython",
    "version": 3
   },
   "file_extension": ".py",
   "mimetype": "text/x-python",
   "name": "python",
   "nbconvert_exporter": "python",
   "pygments_lexer": "ipython3",
   "version": "3.8.5"
  }
 },
 "nbformat": 4,
 "nbformat_minor": 4
}
