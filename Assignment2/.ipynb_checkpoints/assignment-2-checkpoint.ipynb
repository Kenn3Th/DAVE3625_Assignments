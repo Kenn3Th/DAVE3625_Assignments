{
 "metadata": {
  "language_info": {
   "codemirror_mode": {
    "name": "ipython",
    "version": 3
   },
   "file_extension": ".py",
   "mimetype": "text/x-python",
   "name": "python",
   "nbconvert_exporter": "python",
   "pygments_lexer": "ipython3",
   "version": "3.8.2-final"
  },
  "orig_nbformat": 2,
  "kernelspec": {
   "name": "Python 3.8.2 64-bit",
   "display_name": "Python 3.8.2 64-bit",
   "metadata": {
    "interpreter": {
     "hash": "2db524e06e9f5f4ffedc911c917cb75e12dbc923643829bf417064a77eb14d37"
    }
   }
  }
 },
 "nbformat": 4,
 "nbformat_minor": 2,
 "cells": [
  {
   "source": [
    "import pandas as pd\n",
    "from sklearn import linear_model\n",
    "import matplotlib.pyplot as plt"
   ],
   "cell_type": "code",
   "metadata": {},
   "execution_count": 8,
   "outputs": []
  },
  {
   "cell_type": "code",
   "execution_count": 9,
   "metadata": {},
   "outputs": [
    {
     "output_type": "execute_result",
     "data": {
      "text/plain": [
       "         Date       Open       High        Low      Close  Adj Close  \\\n",
       "0  2003-12-18  19.482599  19.596901  19.025499  19.139799  19.139799   \n",
       "1  2003-12-19  19.368299  19.425501  18.282801  18.454201  18.454201   \n",
       "2  2003-12-22  18.739901  18.739901  17.997101  18.054300  18.054300   \n",
       "3  2003-12-23  17.997101  17.997101  17.368700  17.425800  17.425800   \n",
       "4  2003-12-24        NaN        NaN        NaN        NaN        NaN   \n",
       "5  2003-12-25        NaN        NaN        NaN        NaN        NaN   \n",
       "6  2003-12-26        NaN        NaN        NaN        NaN        NaN   \n",
       "7  2003-12-29  17.425800  17.425800  16.854500  17.254400  17.254400   \n",
       "8  2003-12-30  17.425800  17.882900  17.425800  17.711500  17.711500   \n",
       "9  2003-12-31        NaN        NaN        NaN        NaN        NaN   \n",
       "\n",
       "      Volume  \n",
       "0  4978496.0  \n",
       "1  1410901.0  \n",
       "2   137047.0  \n",
       "3   229418.0  \n",
       "4        NaN  \n",
       "5        NaN  \n",
       "6        NaN  \n",
       "7   196206.0  \n",
       "8    67298.0  \n",
       "9        NaN  "
      ],
      "text/html": "<div>\n<style scoped>\n    .dataframe tbody tr th:only-of-type {\n        vertical-align: middle;\n    }\n\n    .dataframe tbody tr th {\n        vertical-align: top;\n    }\n\n    .dataframe thead th {\n        text-align: right;\n    }\n</style>\n<table border=\"1\" class=\"dataframe\">\n  <thead>\n    <tr style=\"text-align: right;\">\n      <th></th>\n      <th>Date</th>\n      <th>Open</th>\n      <th>High</th>\n      <th>Low</th>\n      <th>Close</th>\n      <th>Adj Close</th>\n      <th>Volume</th>\n    </tr>\n  </thead>\n  <tbody>\n    <tr>\n      <th>0</th>\n      <td>2003-12-18</td>\n      <td>19.482599</td>\n      <td>19.596901</td>\n      <td>19.025499</td>\n      <td>19.139799</td>\n      <td>19.139799</td>\n      <td>4978496.0</td>\n    </tr>\n    <tr>\n      <th>1</th>\n      <td>2003-12-19</td>\n      <td>19.368299</td>\n      <td>19.425501</td>\n      <td>18.282801</td>\n      <td>18.454201</td>\n      <td>18.454201</td>\n      <td>1410901.0</td>\n    </tr>\n    <tr>\n      <th>2</th>\n      <td>2003-12-22</td>\n      <td>18.739901</td>\n      <td>18.739901</td>\n      <td>17.997101</td>\n      <td>18.054300</td>\n      <td>18.054300</td>\n      <td>137047.0</td>\n    </tr>\n    <tr>\n      <th>3</th>\n      <td>2003-12-23</td>\n      <td>17.997101</td>\n      <td>17.997101</td>\n      <td>17.368700</td>\n      <td>17.425800</td>\n      <td>17.425800</td>\n      <td>229418.0</td>\n    </tr>\n    <tr>\n      <th>4</th>\n      <td>2003-12-24</td>\n      <td>NaN</td>\n      <td>NaN</td>\n      <td>NaN</td>\n      <td>NaN</td>\n      <td>NaN</td>\n      <td>NaN</td>\n    </tr>\n    <tr>\n      <th>5</th>\n      <td>2003-12-25</td>\n      <td>NaN</td>\n      <td>NaN</td>\n      <td>NaN</td>\n      <td>NaN</td>\n      <td>NaN</td>\n      <td>NaN</td>\n    </tr>\n    <tr>\n      <th>6</th>\n      <td>2003-12-26</td>\n      <td>NaN</td>\n      <td>NaN</td>\n      <td>NaN</td>\n      <td>NaN</td>\n      <td>NaN</td>\n      <td>NaN</td>\n    </tr>\n    <tr>\n      <th>7</th>\n      <td>2003-12-29</td>\n      <td>17.425800</td>\n      <td>17.425800</td>\n      <td>16.854500</td>\n      <td>17.254400</td>\n      <td>17.254400</td>\n      <td>196206.0</td>\n    </tr>\n    <tr>\n      <th>8</th>\n      <td>2003-12-30</td>\n      <td>17.425800</td>\n      <td>17.882900</td>\n      <td>17.425800</td>\n      <td>17.711500</td>\n      <td>17.711500</td>\n      <td>67298.0</td>\n    </tr>\n    <tr>\n      <th>9</th>\n      <td>2003-12-31</td>\n      <td>NaN</td>\n      <td>NaN</td>\n      <td>NaN</td>\n      <td>NaN</td>\n      <td>NaN</td>\n      <td>NaN</td>\n    </tr>\n  </tbody>\n</table>\n</div>"
     },
     "metadata": {},
     "execution_count": 9
    }
   ],
   "source": [
    "nasData = pd.read_csv(\"NAS.csv\")\n",
    "nasData.head(10)"
   ]
  },
  {
   "cell_type": "code",
   "execution_count": 22,
   "metadata": {},
   "outputs": [
    {
     "output_type": "execute_result",
     "data": {
      "text/plain": [
       "            Date       Open       High        Low      Close  Adj Close  \\\n",
       "0     2003-12-18  19.482599  19.596901  19.025499  19.139799  19.139799   \n",
       "1     2003-12-19  19.368299  19.425501  18.282801  18.454201  18.454201   \n",
       "2     2003-12-22  18.739901  18.739901  17.997101  18.054300  18.054300   \n",
       "3     2003-12-23  17.997101  17.997101  17.368700  17.425800  17.425800   \n",
       "7     2003-12-29  17.425800  17.425800  16.854500  17.254400  17.254400   \n",
       "...          ...        ...        ...        ...        ...        ...   \n",
       "4248  2020-10-12   0.709000   0.710000   0.650000   0.676800   0.676800   \n",
       "4249  2020-10-13   0.676800   0.676800   0.600000   0.600600   0.600600   \n",
       "4250  2020-10-14   0.601000   0.640000   0.596200   0.626000   0.626000   \n",
       "4251  2020-10-15   0.626000   0.626000   0.585000   0.605000   0.605000   \n",
       "4252  2020-10-16   0.605000   0.620000   0.601000   0.610600   0.610600   \n",
       "\n",
       "          Volume  \n",
       "0      4978496.0  \n",
       "1      1410901.0  \n",
       "2       137047.0  \n",
       "3       229418.0  \n",
       "7       196206.0  \n",
       "...          ...  \n",
       "4248  48320475.0  \n",
       "4249  47786200.0  \n",
       "4250  37534949.0  \n",
       "4251  26737615.0  \n",
       "4252  15754218.0  \n",
       "\n",
       "[4218 rows x 7 columns]"
      ],
      "text/html": "<div>\n<style scoped>\n    .dataframe tbody tr th:only-of-type {\n        vertical-align: middle;\n    }\n\n    .dataframe tbody tr th {\n        vertical-align: top;\n    }\n\n    .dataframe thead th {\n        text-align: right;\n    }\n</style>\n<table border=\"1\" class=\"dataframe\">\n  <thead>\n    <tr style=\"text-align: right;\">\n      <th></th>\n      <th>Date</th>\n      <th>Open</th>\n      <th>High</th>\n      <th>Low</th>\n      <th>Close</th>\n      <th>Adj Close</th>\n      <th>Volume</th>\n    </tr>\n  </thead>\n  <tbody>\n    <tr>\n      <th>0</th>\n      <td>2003-12-18</td>\n      <td>19.482599</td>\n      <td>19.596901</td>\n      <td>19.025499</td>\n      <td>19.139799</td>\n      <td>19.139799</td>\n      <td>4978496.0</td>\n    </tr>\n    <tr>\n      <th>1</th>\n      <td>2003-12-19</td>\n      <td>19.368299</td>\n      <td>19.425501</td>\n      <td>18.282801</td>\n      <td>18.454201</td>\n      <td>18.454201</td>\n      <td>1410901.0</td>\n    </tr>\n    <tr>\n      <th>2</th>\n      <td>2003-12-22</td>\n      <td>18.739901</td>\n      <td>18.739901</td>\n      <td>17.997101</td>\n      <td>18.054300</td>\n      <td>18.054300</td>\n      <td>137047.0</td>\n    </tr>\n    <tr>\n      <th>3</th>\n      <td>2003-12-23</td>\n      <td>17.997101</td>\n      <td>17.997101</td>\n      <td>17.368700</td>\n      <td>17.425800</td>\n      <td>17.425800</td>\n      <td>229418.0</td>\n    </tr>\n    <tr>\n      <th>7</th>\n      <td>2003-12-29</td>\n      <td>17.425800</td>\n      <td>17.425800</td>\n      <td>16.854500</td>\n      <td>17.254400</td>\n      <td>17.254400</td>\n      <td>196206.0</td>\n    </tr>\n    <tr>\n      <th>...</th>\n      <td>...</td>\n      <td>...</td>\n      <td>...</td>\n      <td>...</td>\n      <td>...</td>\n      <td>...</td>\n      <td>...</td>\n    </tr>\n    <tr>\n      <th>4248</th>\n      <td>2020-10-12</td>\n      <td>0.709000</td>\n      <td>0.710000</td>\n      <td>0.650000</td>\n      <td>0.676800</td>\n      <td>0.676800</td>\n      <td>48320475.0</td>\n    </tr>\n    <tr>\n      <th>4249</th>\n      <td>2020-10-13</td>\n      <td>0.676800</td>\n      <td>0.676800</td>\n      <td>0.600000</td>\n      <td>0.600600</td>\n      <td>0.600600</td>\n      <td>47786200.0</td>\n    </tr>\n    <tr>\n      <th>4250</th>\n      <td>2020-10-14</td>\n      <td>0.601000</td>\n      <td>0.640000</td>\n      <td>0.596200</td>\n      <td>0.626000</td>\n      <td>0.626000</td>\n      <td>37534949.0</td>\n    </tr>\n    <tr>\n      <th>4251</th>\n      <td>2020-10-15</td>\n      <td>0.626000</td>\n      <td>0.626000</td>\n      <td>0.585000</td>\n      <td>0.605000</td>\n      <td>0.605000</td>\n      <td>26737615.0</td>\n    </tr>\n    <tr>\n      <th>4252</th>\n      <td>2020-10-16</td>\n      <td>0.605000</td>\n      <td>0.620000</td>\n      <td>0.601000</td>\n      <td>0.610600</td>\n      <td>0.610600</td>\n      <td>15754218.0</td>\n    </tr>\n  </tbody>\n</table>\n<p>4218 rows × 7 columns</p>\n</div>"
     },
     "metadata": {},
     "execution_count": 22
    }
   ],
   "source": [
    "nasData = nasData.dropna(axis=0)\n",
    "nasData"
   ]
  },
  {
   "source": [],
   "cell_type": "code",
   "metadata": {},
   "execution_count": null,
   "outputs": []
  }
 ]
}